{
 "cells": [
  {
   "cell_type": "markdown",
   "metadata": {},
   "source": [
    "<font color='black'>\n",
    "<h1>\n",
    "<span style=\"font-family:verdana; font-size:1.4em;\">\n",
    "Basic Movie Recommendation System using Cosine Similarity\n",
    "</span>\n",
    "</h1>\n",
    "</font>"
   ]
  },
  {
   "cell_type": "markdown",
   "metadata": {},
   "source": [
    "<font color='steelblue'>\n",
    "<h2>\n",
    "<span style=\"font-family:verdana; font-size:1.6em;\">\n",
    "Content Based Recommendation System for movies<br>\n",
    "</span>\n",
    "</h2>\n",
    "</font>\n",
    "\n",
    "<font color='darkslategrey'>\n",
    "<span style=\"font-family:verdana; font-size:1.4em;\">\n",
    "    <b>Using content based filtering build a recommendation system to recommend a movie if a user likes certain movie\n",
    "    <br><br>\n",
    "    Following is included:<br></b>\n",
    "<ol>\n",
    "        <li>Simple example of Cosine Similarity</li>\n",
    "        <li>Read a movie data set</li>\n",
    "        <li>Use certain features about the movie</li>\n",
    "        <li>Build a cosine similarity matrix</li>\n",
    "        <li>Use this matrix to recommend movies</li>\n",
    "</ol>\n",
    "</span>\n",
    "</font>"
   ]
  },
  {
   "cell_type": "code",
   "execution_count": null,
   "metadata": {},
   "outputs": [],
   "source": [
    "import numpy as np\n",
    "import pandas as pd\n",
    "import matplotlib.pyplot as plt\n",
    "from sklearn.feature_extraction.text import CountVectorizer\n",
    "from sklearn.metrics.pairwise import cosine_similarity\n",
    "\n",
    "# embed the plots in notebook\n",
    "%matplotlib inline\n",
    "plt.style.use('seaborn-whitegrid')    # grids in the plots\n",
    "\n",
    "\n",
    "pd.set_option('display.max_columns', None)\n",
    "pd.set_option('display.max_rows', None)\n",
    "\n",
    "# suppress warnings\n",
    "import warnings\n",
    "warnings.filterwarnings('ignore')"
   ]
  },
  {
   "cell_type": "markdown",
   "metadata": {},
   "source": [
    "<font color='steelblue'>\n",
    "    <h2>Finding Similarity</h2><br>\n",
    "</font>\n",
    "<font color='darkslategray'>\n",
    "<span style=\"font-family:verdana; font-size:1.2em;\">\n",
    "How do we find movies that are similar to a certain movie, we can use that to recommend those movies to the user.\n",
    "    <ul>\n",
    "        <li>Finding similar movies - but how similar they are - to what extent</li><br><i><b>\n",
    "        <li>Let's take simple text example</li>\n",
    "        <ul>\n",
    "            <li>Text 1: Apple Orange Apple</li>\n",
    "            <li>Text 2: Orange Orange Apple</li>\n",
    "        </ul></b></i>\n",
    "    </ul>\n",
    "</span>\n",
    "</font>"
   ]
  },
  {
   "cell_type": "code",
   "execution_count": null,
   "metadata": {},
   "outputs": [],
   "source": [
    "# define list containing two strings\n",
    "text = [\"Apple Orange Apple\", \"Orange Orange Apple\"]"
   ]
  },
  {
   "cell_type": "code",
   "execution_count": null,
   "metadata": {},
   "outputs": [],
   "source": [
    "countVec = CountVectorizer()\n",
    "countMatrix = countVec.fit_transform(text)"
   ]
  },
  {
   "cell_type": "markdown",
   "metadata": {},
   "source": [
    "`count_matrix` gives us a sparse matrix. To make it in human readable form, we need to apply `toarrray()` method to it. And before printing out this `count_matrix`, let us first print out the feature list(or, word list), which have been fed to our `CountVectorizer()` object."
   ]
  },
  {
   "cell_type": "code",
   "execution_count": null,
   "metadata": {},
   "outputs": [],
   "source": [
    "# get word list\n",
    "countVec.get_feature_names()"
   ]
  },
  {
   "cell_type": "code",
   "execution_count": null,
   "metadata": {},
   "outputs": [],
   "source": [
    "countMatrix.toarray()"
   ]
  },
  {
   "cell_type": "markdown",
   "metadata": {},
   "source": [
    "<font color='steelblue'>\n",
    "    <h2>Cosine Similarity</h2><br>\n",
    "</font>\n",
    "<font color='darkslategrey'>\n",
    "<span style=\"font-family:verdana; font-size:1.4em;\">\n",
    "    <ul>\n",
    "    <li>This indicates that the word <b>‘apple’ occurs 2 times in Text 1 and 1 time in Text 2</b>. Similarly, the word <b>‘orange’ occurs 1 time in Text 1 and 2 times in Text 2.</b></li><br>\n",
    "\n",
    "<li>Now, we need to find cosine(or “cos”) similarity between these vectors to find out how similar they are from each other. We can calculate this using `cosine_similarity()` function from `sklearn.metrics.pairwise` library.</li><br>\n",
    "        <li>Similarity value closer to 0 indicates that 2 movies are dis-similar, where as a value closer to 1 indicates that 2 movies are similar</li>\n",
    "    </ul>\n",
    "    </span>\n",
    "    </font>"
   ]
  },
  {
   "cell_type": "code",
   "execution_count": null,
   "metadata": {},
   "outputs": [],
   "source": [
    "# Calculate consine similarity for the matrix\n",
    "similarity = cosine_similarity(countMatrix)\n",
    "similarity"
   ]
  },
  {
   "cell_type": "markdown",
   "metadata": {},
   "source": [
    "<font color='darkslategray'>\n",
    "<span style=\"font-family:verdana; font-size:1.0em;\">\n",
    "<b>\n",
    "We can interpret this output like this:\n",
    "\n",
    "1. Each row of the similarity matrix indicates each sentence of our input. So, row 0 = Text A and row 1 = Text B.\n",
    "2. The same thing applies for columns. To get a better understanding over this, we can say that the output given above is same as the following:\n",
    "    </b>\n",
    "    </span>\n",
    "    </font>\n",
    "<code>\n",
    "        Text 1:     Text 2:\n",
    "Text 1: [[1.         0.8]  \n",
    "Text 2: [0.8         1.]]  \n",
    "</code>\n",
    "<br>\n",
    "<font color='darkslategrey'>\n",
    "<span style=\"font-family:verdana; font-size:1.0em;\">\n",
    "<b>\n",
    "Interpreting this, says that Text 1 is similar to Text 1(itself) by 100%(position [0,0]) and Text 1 is similar to Text 2 by 80%(position [0,1]). And by looking at the kind of output it is giving, we can easily say that this is always going to output a symmetric matrix. Because, if Text 1 is similar to Text 2 by 80% then, Text 2 is also going to be similar to Text 1 by 80%.\n",
    "    </b>\n",
    "    </span>\n",
    "    </font>"
   ]
  },
  {
   "cell_type": "markdown",
   "metadata": {},
   "source": [
    "<font color='steelblue'>\n",
    "<span style=\"font-family:verdana; font-size:1.6em;\">\n",
    "    <h2>Building Movie Recommendation</h2>\n",
    "</span>\n",
    "</font>"
   ]
  },
  {
   "cell_type": "code",
   "execution_count": null,
   "metadata": {},
   "outputs": [],
   "source": [
    "df = pd.read_csv(\"movie_dataset.csv\")"
   ]
  },
  {
   "cell_type": "code",
   "execution_count": null,
   "metadata": {},
   "outputs": [],
   "source": [
    "df.head(2)"
   ]
  },
  {
   "cell_type": "markdown",
   "metadata": {},
   "source": [
    "## Use keywords, cast, genres and director as our features"
   ]
  },
  {
   "cell_type": "code",
   "execution_count": null,
   "metadata": {},
   "outputs": [],
   "source": [
    "features = ['keywords','cast','genres','director']"
   ]
  },
  {
   "cell_type": "code",
   "execution_count": null,
   "metadata": {},
   "outputs": [],
   "source": [
    "# function to combine all these features into a single string\n",
    "# return row['keywords'] + \" \" + row['cast'] + \" \" + row['genres'] + \" \" + row['director']\n",
    "def combineFeatures(row):\n",
    "    retval = \"\"\n",
    "    for feature in features:\n",
    "        retval = retval + str(row[feature])\n",
    "    return retval"
   ]
  },
  {
   "cell_type": "code",
   "execution_count": null,
   "metadata": {},
   "outputs": [],
   "source": [
    "# create a feature column, and initialize it with empty string\n",
    "df['feature'] = \"\""
   ]
  },
  {
   "cell_type": "code",
   "execution_count": null,
   "metadata": {},
   "outputs": [],
   "source": [
    "df.head(1)"
   ]
  },
  {
   "cell_type": "code",
   "execution_count": null,
   "metadata": {},
   "outputs": [],
   "source": [
    "df.title.nunique()"
   ]
  },
  {
   "cell_type": "code",
   "execution_count": null,
   "metadata": {},
   "outputs": [],
   "source": [
    "df.title.unique()"
   ]
  },
  {
   "cell_type": "code",
   "execution_count": null,
   "metadata": {},
   "outputs": [],
   "source": [
    "# see first row with only feature information\n",
    "df[['keywords', 'cast', 'genres', 'director']].head(1)"
   ]
  },
  {
   "cell_type": "code",
   "execution_count": null,
   "metadata": {},
   "outputs": [],
   "source": [
    "# set the values for each row as the combined features\n",
    "df['feature'] = df.apply(combineFeatures, axis = 1)"
   ]
  },
  {
   "cell_type": "code",
   "execution_count": null,
   "metadata": {},
   "outputs": [],
   "source": [
    "# show the first row feature column\n",
    "df.iloc[0].feature"
   ]
  },
  {
   "cell_type": "markdown",
   "metadata": {},
   "source": [
    "   ## Create Count Vectorizer for the feature column"
   ]
  },
  {
   "cell_type": "code",
   "execution_count": null,
   "metadata": {},
   "outputs": [],
   "source": [
    "countVec = CountVectorizer()\n",
    "countMatrix = countVec.fit_transform(df['feature'])"
   ]
  },
  {
   "cell_type": "code",
   "execution_count": null,
   "metadata": {},
   "outputs": [],
   "source": [
    "# first 10 elements in the vector\n",
    "countVec.get_feature_names()[:10]"
   ]
  },
  {
   "cell_type": "markdown",
   "metadata": {},
   "source": [
    "## Create Consine Similarity"
   ]
  },
  {
   "cell_type": "code",
   "execution_count": null,
   "metadata": {},
   "outputs": [],
   "source": [
    "similarity = cosine_similarity(countMatrix)"
   ]
  },
  {
   "cell_type": "code",
   "execution_count": null,
   "metadata": {},
   "outputs": [],
   "source": [
    "similarity.shape"
   ]
  },
  {
   "cell_type": "code",
   "execution_count": null,
   "metadata": {},
   "outputs": [],
   "source": [
    "df.title[:10]"
   ]
  },
  {
   "cell_type": "code",
   "execution_count": null,
   "metadata": {},
   "outputs": [],
   "source": [
    "# first 10 similarity for the first row in the matrix\n",
    "similarity[0][:10]"
   ]
  },
  {
   "cell_type": "markdown",
   "metadata": {},
   "source": [
    "## Utility Functions"
   ]
  },
  {
   "cell_type": "code",
   "execution_count": null,
   "metadata": {},
   "outputs": [],
   "source": [
    "# get title from movie index\n",
    "def getTitleFromIndex(index):\n",
    "    return df[df.index == index]['title'].values[0]\n",
    "\n",
    "# get movie index from movie title\n",
    "def getIndexFromTitle(title):\n",
    "    return df[df.title == title]['index'].values[0]\n",
    "\n",
    "# get top n movie ratings based on user liking certain movie\n",
    "def getTopRecommendations(numRecommendations, movieLikedByUser):\n",
    "    mIndex = getIndexFromTitle(movieLikedByUser)\n",
    "    similarMovies = list(enumerate(similarity[mIndex]))\n",
    "    # now sort the list of similar movies based on similarity scores in\n",
    "    # descending order. Also discard first element since it will be\n",
    "    # the movie that is passed into the function\n",
    "    sortedMovies = sorted(similarMovies, key = lambda x: x[1], reverse = True)[1:]\n",
    "    \n",
    "    i = 0\n",
    "    for movie in sortedMovies:\n",
    "        print(getTitleFromIndex(movie[0]))\n",
    "        i = i + 1\n",
    "        if i >= numRecommendations:\n",
    "            break"
   ]
  },
  {
   "cell_type": "code",
   "execution_count": null,
   "metadata": {},
   "outputs": [],
   "source": [
    "getTopRecommendations(5, \"Iron Man\")"
   ]
  },
  {
   "cell_type": "code",
   "execution_count": null,
   "metadata": {},
   "outputs": [],
   "source": [
    "getTopRecommendations(10, \"Toy Story\")"
   ]
  },
  {
   "cell_type": "code",
   "execution_count": null,
   "metadata": {},
   "outputs": [],
   "source": [
    "names = df.title.unique()"
   ]
  },
  {
   "cell_type": "code",
   "execution_count": null,
   "metadata": {},
   "outputs": [],
   "source": [
    "for name in names:\n",
    "    print(name)"
   ]
  },
  {
   "cell_type": "code",
   "execution_count": null,
   "metadata": {},
   "outputs": [],
   "source": [
    "getTopRecommendations(10, \"Life of Pi\")"
   ]
  }
 ],
 "metadata": {
  "kernelspec": {
   "display_name": "Python 3",
   "language": "python",
   "name": "python3"
  },
  "language_info": {
   "codemirror_mode": {
    "name": "ipython",
    "version": 3
   },
   "file_extension": ".py",
   "mimetype": "text/x-python",
   "name": "python",
   "nbconvert_exporter": "python",
   "pygments_lexer": "ipython3",
   "version": "3.8.5"
  }
 },
 "nbformat": 4,
 "nbformat_minor": 4
}
